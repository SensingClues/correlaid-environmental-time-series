{
 "cells": [
  {
   "cell_type": "code",
   "execution_count": 40,
   "metadata": {
    "vscode": {
     "languageId": "r"
    }
   },
   "outputs": [],
   "source": [
    "## Import libraries and useful functions\n",
    "library(ggplot2)\n",
    "library(terra)\n",
    "library(leaflet)\n",
    "library(tidyr)\n",
    "library(dplyr)\n",
    "library(progress)\n",
    "\n",
    "suppressMessages({\n",
    "  library(ggplot2)\n",
    "  library(terra)\n",
    "  library(leaflet)\n",
    "  library(tidyr)\n",
    "  library(dplyr)\n",
    "  library(sf)\n",
    "})\n",
    "\n",
    "\n",
    "source(\"../scripts/utils.R\")\n",
    "source(\"../scripts/visualize.R\")"
   ]
  },
  {
   "cell_type": "code",
   "execution_count": 41,
   "metadata": {
    "vscode": {
     "languageId": "r"
    }
   },
   "outputs": [],
   "source": [
    "## Set paths and load data\n",
    "# Input NVDI basemaps stored in country folder. \n",
    "# Area of Interest (AoI) files in AoI folder\n",
    "\n",
    "country_name <- \"Zambia\"\n",
    "data_type <- \"NDVI\"\n",
    "land_use_src <- \"S2_10m_LULC_2023\"\n",
    "resolution <- 100 # in meters\n",
    "data_path <- paste0(\"../data/\", data_type, \"/\", country_name, \"/\", resolution, \"m_resolution/\")\n",
    "lulc_path <- paste0(\"../data/LandUse/\", country_name, \"/\", land_use_src, \"/\")\n",
    "aoi_path <- \"../data/AoI/\"\n",
    "\n",
    "test_year <- 2024\n"
   ]
  },
  {
   "cell_type": "code",
   "execution_count": 42,
   "metadata": {
    "vscode": {
     "languageId": "r"
    }
   },
   "outputs": [
    {
     "name": "stdout",
     "output_type": "stream",
     "text": [
      "\n",
      "Loading NDVI data for Zambia \n",
      "\n",
      "Loading AoI data for Zambia \n",
      "\n",
      "Loading LandUseVector data for Zambia \n",
      "\n",
      "Found data for 72 months, from 2019-01 to 2024-12 \n"
     ]
    }
   ],
   "source": [
    "## Create lists with relevant filenames.\n",
    "## Extract date, and order accordingly\n",
    "\n",
    "# NDVI filenames\n",
    "ndvi_files <- get_filenames(filepath = data_path, data_type = data_type, \n",
    "                            file_extension = \".tif\", country_name = country_name)\n",
    "\n",
    "# AoI filenames\n",
    "aoi_files <- get_filenames(filepath = aoi_path, data_type = \"AoI\", \n",
    "                           file_extension = \".geojson\", country_name = country_name)\n",
    "\n",
    "# LULC filenames\n",
    "lulc_files <- get_filenames(filepath = lulc_path, data_type = \"LandUseVector\", \n",
    "                            file_extension = \".geojson\", country_name = country_name)\n",
    "\n",
    "# Extract the date part from the filenames using a regular expression\n",
    "# Assumes only year and month in filename\n",
    "dates <- extract_dates(file_list = ndvi_files)\n",
    "\n",
    "# Convert extracted date strings to date objects\n",
    "# sorting files based on the date objects (ascending)\n",
    "ndvi_files <- order_by_date(file_list = ndvi_files, dates = dates, decreasing = FALSE)"
   ]
  },
  {
   "cell_type": "code",
   "execution_count": 43,
   "metadata": {
    "vscode": {
     "languageId": "r"
    }
   },
   "outputs": [
    {
     "name": "stdout",
     "output_type": "stream",
     "text": [
      "Reading layer `AoI_Mponda' from data source \n",
      "  `C:\\SD\\correlaid_sensingclues\\environmental-time-series\\data\\AoI\\AoI_Zambia_By_Life_Connected.geojson' \n",
      "  using driver `GeoJSON'\n",
      "Simple feature collection with 1 feature and 1 field\n",
      "Geometry type: POLYGON\n",
      "Dimension:     XY\n",
      "Bounding box:  xmin: 26.77027 ymin: -15.1321 xmax: 26.92342 ymax: -14.85555\n",
      "Geodetic CRS:  WGS 84\n"
     ]
    }
   ],
   "source": [
    "## Load raster and vector objects\n",
    "\n",
    "# load input Area of Interest (AoI) to later mask data\n",
    "aoi_proj <- get_aoi_vector(aoi_files = aoi_files, aoi_path = aoi_path,\n",
    "                           projection = \"EPSG:4326\")\n",
    "\n",
    "ndvi_msk <- get_ndvi_raster(ndvi_files = ndvi_files, data_path = data_path,\n",
    "                            projection = \"EPSG:4326\", dates = dates,\n",
    "                            aoi_proj = aoi_proj)\n"
   ]
  },
  {
   "cell_type": "code",
   "execution_count": 39,
   "metadata": {
    "vscode": {
     "languageId": "r"
    }
   },
   "outputs": [
    {
     "name": "stdout",
     "output_type": "stream",
     "text": [
      "Reading layer `Zambia_Bare_ground' from data source \n",
      "  `C:\\SD\\correlaid_sensingclues\\environmental-time-series\\data\\LandUse\\Zambia\\S2_10m_LULC_2023\\Zambia_Bare_ground_2023.geojson' \n",
      "  using driver `GeoJSON'\n",
      "Simple feature collection with 1 feature and 0 fields\n",
      "Geometry type: MULTIPOLYGON\n",
      "Dimension:     XY\n",
      "Bounding box:  xmin: 489750 ymin: 8333500 xmax: 489950 ymax: 8333820\n",
      "Projected CRS: WGS 84 / UTM zone 35S\n"
     ]
    },
    {
     "name": "stderr",
     "output_type": "stream",
     "text": [
      "\u001b[1m\u001b[22m`summarise()` has grouped output by 'Year'. You can override using the\n",
      "`.groups` argument.\n",
      "\u001b[1m\u001b[22m`summarise()` has grouped output by 'Year'. You can override using the\n",
      "`.groups` argument.\n"
     ]
    },
    {
     "name": "stdout",
     "output_type": "stream",
     "text": [
      "Reading layer `Zambia_Built_Area' from data source \n",
      "  `C:\\SD\\correlaid_sensingclues\\environmental-time-series\\data\\LandUse\\Zambia\\S2_10m_LULC_2023\\Zambia_Built_Area_2023.geojson' \n",
      "  using driver `GeoJSON'\n",
      "Simple feature collection with 1 feature and 0 fields\n",
      "Geometry type: MULTIPOLYGON\n",
      "Dimension:     XY\n",
      "Bounding box:  xmin: 475940 ymin: 8327510 xmax: 490280 ymax: 8356980\n",
      "Projected CRS: WGS 84 / UTM zone 35S\n"
     ]
    },
    {
     "name": "stderr",
     "output_type": "stream",
     "text": [
      "\u001b[1m\u001b[22m`summarise()` has grouped output by 'Year'. You can override using the\n",
      "`.groups` argument.\n",
      "\u001b[1m\u001b[22m`summarise()` has grouped output by 'Year'. You can override using the\n",
      "`.groups` argument.\n"
     ]
    },
    {
     "name": "stdout",
     "output_type": "stream",
     "text": [
      "Reading layer `Zambia_Crops' from data source \n",
      "  `C:\\SD\\correlaid_sensingclues\\environmental-time-series\\data\\LandUse\\Zambia\\S2_10m_LULC_2023\\Zambia_Crops_2023.geojson' \n",
      "  using driver `GeoJSON'\n",
      "Simple feature collection with 1 feature and 0 fields\n",
      "Geometry type: MULTIPOLYGON\n",
      "Dimension:     XY\n",
      "Bounding box:  xmin: 475290 ymin: 8327060 xmax: 490810 ymax: 8357640\n",
      "Projected CRS: WGS 84 / UTM zone 35S\n"
     ]
    },
    {
     "name": "stderr",
     "output_type": "stream",
     "text": [
      "\u001b[1m\u001b[22m`summarise()` has grouped output by 'Year'. You can override using the\n",
      "`.groups` argument.\n",
      "\u001b[1m\u001b[22m`summarise()` has grouped output by 'Year'. You can override using the\n",
      "`.groups` argument.\n"
     ]
    },
    {
     "name": "stdout",
     "output_type": "stream",
     "text": [
      "Reading layer `Zambia_Flooded_vegetation' from data source \n",
      "  `C:\\SD\\correlaid_sensingclues\\environmental-time-series\\data\\LandUse\\Zambia\\S2_10m_LULC_2023\\Zambia_Flooded_vegetation_2023.geojson' \n",
      "  using driver `GeoJSON'\n",
      "Simple feature collection with 1 feature and 0 fields\n",
      "Geometry type: POLYGON\n",
      "Dimension:     XY\n",
      "Bounding box:  xmin: 487840 ymin: 8328220 xmax: 487960 ymax: 8328330\n",
      "Projected CRS: WGS 84 / UTM zone 35S\n"
     ]
    },
    {
     "name": "stderr",
     "output_type": "stream",
     "text": [
      "\u001b[1m\u001b[22m`summarise()` has grouped output by 'Year'. You can override using the\n",
      "`.groups` argument.\n",
      "\u001b[1m\u001b[22m`summarise()` has grouped output by 'Year'. You can override using the\n",
      "`.groups` argument.\n"
     ]
    },
    {
     "name": "stdout",
     "output_type": "stream",
     "text": [
      "Reading layer `Zambia_Rangeland' from data source \n",
      "  `C:\\SD\\correlaid_sensingclues\\environmental-time-series\\data\\LandUse\\Zambia\\S2_10m_LULC_2023\\Zambia_Rangeland_2023.geojson' \n",
      "  using driver `GeoJSON'\n",
      "Simple feature collection with 1 feature and 0 fields\n",
      "Geometry type: MULTIPOLYGON\n",
      "Dimension:     XY\n",
      "Bounding box:  xmin: 475290 ymin: 8327100 xmax: 491770 ymax: 8357640\n",
      "Projected CRS: WGS 84 / UTM zone 35S\n"
     ]
    },
    {
     "name": "stderr",
     "output_type": "stream",
     "text": [
      "\u001b[1m\u001b[22m`summarise()` has grouped output by 'Year'. You can override using the\n",
      "`.groups` argument.\n",
      "\u001b[1m\u001b[22m`summarise()` has grouped output by 'Year'. You can override using the\n",
      "`.groups` argument.\n"
     ]
    },
    {
     "name": "stdout",
     "output_type": "stream",
     "text": [
      "Reading layer `Zambia_Trees' from data source \n",
      "  `C:\\SD\\correlaid_sensingclues\\environmental-time-series\\data\\LandUse\\Zambia\\S2_10m_LULC_2023\\Zambia_Trees_2023.geojson' \n",
      "  using driver `GeoJSON'\n",
      "Simple feature collection with 1 feature and 0 fields\n",
      "Geometry type: MULTIPOLYGON\n",
      "Dimension:     XY\n",
      "Bounding box:  xmin: 475290 ymin: 8327070 xmax: 491770 ymax: 8357520\n",
      "Projected CRS: WGS 84 / UTM zone 35S\n"
     ]
    },
    {
     "name": "stderr",
     "output_type": "stream",
     "text": [
      "\u001b[1m\u001b[22m`summarise()` has grouped output by 'Year'. You can override using the\n",
      "`.groups` argument.\n",
      "\u001b[1m\u001b[22m`summarise()` has grouped output by 'Year'. You can override using the\n",
      "`.groups` argument.\n"
     ]
    },
    {
     "name": "stdout",
     "output_type": "stream",
     "text": [
      "Reading layer `Zambia_Water' from data source \n",
      "  `C:\\SD\\correlaid_sensingclues\\environmental-time-series\\data\\LandUse\\Zambia\\S2_10m_LULC_2023\\Zambia_Water_2023.geojson' \n",
      "  using driver `GeoJSON'\n",
      "Simple feature collection with 1 feature and 0 fields\n",
      "Geometry type: MULTIPOLYGON\n",
      "Dimension:     XY\n",
      "Bounding box:  xmin: 477090 ymin: 8328060 xmax: 490140 ymax: 8339900\n",
      "Projected CRS: WGS 84 / UTM zone 35S\n"
     ]
    },
    {
     "name": "stderr",
     "output_type": "stream",
     "text": [
      "\u001b[1m\u001b[22m`summarise()` has grouped output by 'Year'. You can override using the\n",
      "`.groups` argument.\n",
      "\u001b[1m\u001b[22m`summarise()` has grouped output by 'Year'. You can override using the\n",
      "`.groups` argument.\n"
     ]
    }
   ],
   "source": [
    "# Initialize empty data frame to hold all results\n",
    "all_test_ndvi_summary <- data.frame()\n",
    "all_train_ndvi_summary <- data.frame()\n",
    "\n",
    "land_use_types <- c(\"Crops\", \"Rangeland\", \"Trees\")\n",
    "\n",
    "# Initialize progress bar\n",
    "# TODO: Fix progress bar to show progress\n",
    "pb <- progress_bar$new(total = length(lulc_files), format = \"[:bar] :percent :elapsedfull\")\n",
    "\n",
    "for (land_cover_vector in lulc_files) {\n",
    "    land_use = get_aoi_vector(aoi_files = land_cover_vector, aoi_path = lulc_path,\n",
    "                              projection = \"EPSG:4326\")\n",
    "\n",
    "    # Extract land use type from file name (assuming file names follow a pattern)\n",
    "    land_use_type <- gsub(pattern = paste0(country_name, \"_|_[0-9]{4}|\\\\.geojson$\"), replacement = \"\", basename(land_cover_vector))\n",
    "    \n",
    "    # Mask the raster with the land use polygon\n",
    "    ndvi_land_use <- mask(ndvi_msk, land_use)\n",
    "\n",
    "    ndvi_df <- get_ndvi_df(ndvi_rast = ndvi_land_use, dates = dates)\n",
    "\n",
    "    ## now split df into train and test data\n",
    "    # train year data\n",
    "    train_ndvi_df <- ndvi_df[ndvi_df$Year != test_year,]\n",
    "    # test year data\n",
    "    test_ndvi_df <- ndvi_df[ndvi_df$Year == test_year,]\n",
    "\n",
    "    # drop missing values\n",
    "    train_ndvi_df <- na.omit(train_ndvi_df)\n",
    "    test_ndvi_df <- na.omit(test_ndvi_df)\n",
    "\n",
    "    ## Compute mean, SD, and confidence intervals\n",
    "    # train data\n",
    "    train_ndvi_summary <- get_summary_ndvi_df(ndvi_df = train_ndvi_df)\n",
    "    # test data\n",
    "    test_ndvi_summary <- get_summary_ndvi_df(ndvi_df = test_ndvi_df)\n",
    "    \n",
    "    # Filter for desired land use types if provided\n",
    "    if (is.null(land_use_types) || land_use_type %in% land_use_types) {\n",
    "        train_ndvi_summary$land_use <- land_use_type\n",
    "        test_ndvi_summary$land_use <- land_use_type\n",
    "    \n",
    "        # Append to the overall data frames\n",
    "        all_train_ndvi_summary <- bind_rows(all_train_ndvi_summary, train_ndvi_summary)\n",
    "        all_test_ndvi_summary <- bind_rows(all_test_ndvi_summary, test_ndvi_summary)\n",
    "    }\n",
    "\n",
    "    # Update progress bar\n",
    "    pb$tick()\n",
    "\n",
    "}\n"
   ]
  },
  {
   "cell_type": "code",
   "execution_count": 32,
   "metadata": {
    "vscode": {
     "languageId": "r"
    }
   },
   "outputs": [
    {
     "data": {
      "text/html": [
       "<table class=\"dataframe\">\n",
       "<caption>A data.frame: 36 × 5</caption>\n",
       "<thead>\n",
       "\t<tr><th scope=col>Month</th><th scope=col>mean_val</th><th scope=col>lower_ci</th><th scope=col>upper_ci</th><th scope=col>land_use</th></tr>\n",
       "\t<tr><th scope=col>&lt;chr&gt;</th><th scope=col>&lt;dbl&gt;</th><th scope=col>&lt;dbl&gt;</th><th scope=col>&lt;dbl&gt;</th><th scope=col>&lt;chr&gt;</th></tr>\n",
       "</thead>\n",
       "<tbody>\n",
       "\t<tr><td>01</td><td>0.5208781</td><td>0.4774284</td><td>0.5643278</td><td>Crops    </td></tr>\n",
       "\t<tr><td>02</td><td>0.6597130</td><td>0.6394347</td><td>0.6799913</td><td>Crops    </td></tr>\n",
       "\t<tr><td>03</td><td>0.5903488</td><td>0.5489185</td><td>0.6317790</td><td>Crops    </td></tr>\n",
       "\t<tr><td>04</td><td>0.5605843</td><td>0.5084774</td><td>0.6126911</td><td>Crops    </td></tr>\n",
       "\t<tr><td>05</td><td>0.4071736</td><td>0.3805311</td><td>0.4338160</td><td>Crops    </td></tr>\n",
       "\t<tr><td>06</td><td>0.3276258</td><td>0.3114147</td><td>0.3438370</td><td>Crops    </td></tr>\n",
       "\t<tr><td>07</td><td>0.2561210</td><td>0.2439058</td><td>0.2683361</td><td>Crops    </td></tr>\n",
       "\t<tr><td>08</td><td>0.2018713</td><td>0.1821971</td><td>0.2215455</td><td>Crops    </td></tr>\n",
       "\t<tr><td>09</td><td>0.2038976</td><td>0.1915033</td><td>0.2162919</td><td>Crops    </td></tr>\n",
       "\t<tr><td>10</td><td>0.2269000</td><td>0.2052595</td><td>0.2485406</td><td>Crops    </td></tr>\n",
       "\t<tr><td>11</td><td>0.2903926</td><td>0.2697961</td><td>0.3109891</td><td>Crops    </td></tr>\n",
       "\t<tr><td>12</td><td>0.4342087</td><td>0.3676040</td><td>0.5008134</td><td>Crops    </td></tr>\n",
       "\t<tr><td>01</td><td>0.5863308</td><td>0.5643856</td><td>0.6082761</td><td>Rangeland</td></tr>\n",
       "\t<tr><td>02</td><td>0.7003859</td><td>0.6708788</td><td>0.7298930</td><td>Rangeland</td></tr>\n",
       "\t<tr><td>03</td><td>0.6280934</td><td>0.5900462</td><td>0.6661405</td><td>Rangeland</td></tr>\n",
       "\t<tr><td>04</td><td>0.6079525</td><td>0.5679125</td><td>0.6479924</td><td>Rangeland</td></tr>\n",
       "\t<tr><td>05</td><td>0.4479067</td><td>0.4136977</td><td>0.4821157</td><td>Rangeland</td></tr>\n",
       "\t<tr><td>06</td><td>0.3513442</td><td>0.3283577</td><td>0.3743306</td><td>Rangeland</td></tr>\n",
       "\t<tr><td>07</td><td>0.2684134</td><td>0.2518382</td><td>0.2849886</td><td>Rangeland</td></tr>\n",
       "\t<tr><td>08</td><td>0.2121064</td><td>0.1892387</td><td>0.2349742</td><td>Rangeland</td></tr>\n",
       "\t<tr><td>09</td><td>0.2229864</td><td>0.2049415</td><td>0.2410314</td><td>Rangeland</td></tr>\n",
       "\t<tr><td>10</td><td>0.2611101</td><td>0.2286929</td><td>0.2935273</td><td>Rangeland</td></tr>\n",
       "\t<tr><td>11</td><td>0.3572285</td><td>0.3198260</td><td>0.3946310</td><td>Rangeland</td></tr>\n",
       "\t<tr><td>12</td><td>0.5385673</td><td>0.4356373</td><td>0.6414972</td><td>Rangeland</td></tr>\n",
       "\t<tr><td>01</td><td>0.6020346</td><td>0.5799308</td><td>0.6241385</td><td>Trees    </td></tr>\n",
       "\t<tr><td>02</td><td>0.7022592</td><td>0.6621008</td><td>0.7424175</td><td>Trees    </td></tr>\n",
       "\t<tr><td>03</td><td>0.6394664</td><td>0.6045265</td><td>0.6744063</td><td>Trees    </td></tr>\n",
       "\t<tr><td>04</td><td>0.6471987</td><td>0.6202214</td><td>0.6741760</td><td>Trees    </td></tr>\n",
       "\t<tr><td>05</td><td>0.5153226</td><td>0.4778644</td><td>0.5527809</td><td>Trees    </td></tr>\n",
       "\t<tr><td>06</td><td>0.4262670</td><td>0.3932431</td><td>0.4592910</td><td>Trees    </td></tr>\n",
       "\t<tr><td>07</td><td>0.3235656</td><td>0.2916580</td><td>0.3554731</td><td>Trees    </td></tr>\n",
       "\t<tr><td>08</td><td>0.2427701</td><td>0.2091074</td><td>0.2764328</td><td>Trees    </td></tr>\n",
       "\t<tr><td>09</td><td>0.2496114</td><td>0.2238724</td><td>0.2753504</td><td>Trees    </td></tr>\n",
       "\t<tr><td>10</td><td>0.3133957</td><td>0.2609437</td><td>0.3658477</td><td>Trees    </td></tr>\n",
       "\t<tr><td>11</td><td>0.4250499</td><td>0.3753094</td><td>0.4747904</td><td>Trees    </td></tr>\n",
       "\t<tr><td>12</td><td>0.5943392</td><td>0.5087544</td><td>0.6799241</td><td>Trees    </td></tr>\n",
       "</tbody>\n",
       "</table>\n"
      ],
      "text/latex": [
       "A data.frame: 36 × 5\n",
       "\\begin{tabular}{lllll}\n",
       " Month & mean\\_val & lower\\_ci & upper\\_ci & land\\_use\\\\\n",
       " <chr> & <dbl> & <dbl> & <dbl> & <chr>\\\\\n",
       "\\hline\n",
       "\t 01 & 0.5208781 & 0.4774284 & 0.5643278 & Crops    \\\\\n",
       "\t 02 & 0.6597130 & 0.6394347 & 0.6799913 & Crops    \\\\\n",
       "\t 03 & 0.5903488 & 0.5489185 & 0.6317790 & Crops    \\\\\n",
       "\t 04 & 0.5605843 & 0.5084774 & 0.6126911 & Crops    \\\\\n",
       "\t 05 & 0.4071736 & 0.3805311 & 0.4338160 & Crops    \\\\\n",
       "\t 06 & 0.3276258 & 0.3114147 & 0.3438370 & Crops    \\\\\n",
       "\t 07 & 0.2561210 & 0.2439058 & 0.2683361 & Crops    \\\\\n",
       "\t 08 & 0.2018713 & 0.1821971 & 0.2215455 & Crops    \\\\\n",
       "\t 09 & 0.2038976 & 0.1915033 & 0.2162919 & Crops    \\\\\n",
       "\t 10 & 0.2269000 & 0.2052595 & 0.2485406 & Crops    \\\\\n",
       "\t 11 & 0.2903926 & 0.2697961 & 0.3109891 & Crops    \\\\\n",
       "\t 12 & 0.4342087 & 0.3676040 & 0.5008134 & Crops    \\\\\n",
       "\t 01 & 0.5863308 & 0.5643856 & 0.6082761 & Rangeland\\\\\n",
       "\t 02 & 0.7003859 & 0.6708788 & 0.7298930 & Rangeland\\\\\n",
       "\t 03 & 0.6280934 & 0.5900462 & 0.6661405 & Rangeland\\\\\n",
       "\t 04 & 0.6079525 & 0.5679125 & 0.6479924 & Rangeland\\\\\n",
       "\t 05 & 0.4479067 & 0.4136977 & 0.4821157 & Rangeland\\\\\n",
       "\t 06 & 0.3513442 & 0.3283577 & 0.3743306 & Rangeland\\\\\n",
       "\t 07 & 0.2684134 & 0.2518382 & 0.2849886 & Rangeland\\\\\n",
       "\t 08 & 0.2121064 & 0.1892387 & 0.2349742 & Rangeland\\\\\n",
       "\t 09 & 0.2229864 & 0.2049415 & 0.2410314 & Rangeland\\\\\n",
       "\t 10 & 0.2611101 & 0.2286929 & 0.2935273 & Rangeland\\\\\n",
       "\t 11 & 0.3572285 & 0.3198260 & 0.3946310 & Rangeland\\\\\n",
       "\t 12 & 0.5385673 & 0.4356373 & 0.6414972 & Rangeland\\\\\n",
       "\t 01 & 0.6020346 & 0.5799308 & 0.6241385 & Trees    \\\\\n",
       "\t 02 & 0.7022592 & 0.6621008 & 0.7424175 & Trees    \\\\\n",
       "\t 03 & 0.6394664 & 0.6045265 & 0.6744063 & Trees    \\\\\n",
       "\t 04 & 0.6471987 & 0.6202214 & 0.6741760 & Trees    \\\\\n",
       "\t 05 & 0.5153226 & 0.4778644 & 0.5527809 & Trees    \\\\\n",
       "\t 06 & 0.4262670 & 0.3932431 & 0.4592910 & Trees    \\\\\n",
       "\t 07 & 0.3235656 & 0.2916580 & 0.3554731 & Trees    \\\\\n",
       "\t 08 & 0.2427701 & 0.2091074 & 0.2764328 & Trees    \\\\\n",
       "\t 09 & 0.2496114 & 0.2238724 & 0.2753504 & Trees    \\\\\n",
       "\t 10 & 0.3133957 & 0.2609437 & 0.3658477 & Trees    \\\\\n",
       "\t 11 & 0.4250499 & 0.3753094 & 0.4747904 & Trees    \\\\\n",
       "\t 12 & 0.5943392 & 0.5087544 & 0.6799241 & Trees    \\\\\n",
       "\\end{tabular}\n"
      ],
      "text/markdown": [
       "\n",
       "A data.frame: 36 × 5\n",
       "\n",
       "| Month &lt;chr&gt; | mean_val &lt;dbl&gt; | lower_ci &lt;dbl&gt; | upper_ci &lt;dbl&gt; | land_use &lt;chr&gt; |\n",
       "|---|---|---|---|---|\n",
       "| 01 | 0.5208781 | 0.4774284 | 0.5643278 | Crops     |\n",
       "| 02 | 0.6597130 | 0.6394347 | 0.6799913 | Crops     |\n",
       "| 03 | 0.5903488 | 0.5489185 | 0.6317790 | Crops     |\n",
       "| 04 | 0.5605843 | 0.5084774 | 0.6126911 | Crops     |\n",
       "| 05 | 0.4071736 | 0.3805311 | 0.4338160 | Crops     |\n",
       "| 06 | 0.3276258 | 0.3114147 | 0.3438370 | Crops     |\n",
       "| 07 | 0.2561210 | 0.2439058 | 0.2683361 | Crops     |\n",
       "| 08 | 0.2018713 | 0.1821971 | 0.2215455 | Crops     |\n",
       "| 09 | 0.2038976 | 0.1915033 | 0.2162919 | Crops     |\n",
       "| 10 | 0.2269000 | 0.2052595 | 0.2485406 | Crops     |\n",
       "| 11 | 0.2903926 | 0.2697961 | 0.3109891 | Crops     |\n",
       "| 12 | 0.4342087 | 0.3676040 | 0.5008134 | Crops     |\n",
       "| 01 | 0.5863308 | 0.5643856 | 0.6082761 | Rangeland |\n",
       "| 02 | 0.7003859 | 0.6708788 | 0.7298930 | Rangeland |\n",
       "| 03 | 0.6280934 | 0.5900462 | 0.6661405 | Rangeland |\n",
       "| 04 | 0.6079525 | 0.5679125 | 0.6479924 | Rangeland |\n",
       "| 05 | 0.4479067 | 0.4136977 | 0.4821157 | Rangeland |\n",
       "| 06 | 0.3513442 | 0.3283577 | 0.3743306 | Rangeland |\n",
       "| 07 | 0.2684134 | 0.2518382 | 0.2849886 | Rangeland |\n",
       "| 08 | 0.2121064 | 0.1892387 | 0.2349742 | Rangeland |\n",
       "| 09 | 0.2229864 | 0.2049415 | 0.2410314 | Rangeland |\n",
       "| 10 | 0.2611101 | 0.2286929 | 0.2935273 | Rangeland |\n",
       "| 11 | 0.3572285 | 0.3198260 | 0.3946310 | Rangeland |\n",
       "| 12 | 0.5385673 | 0.4356373 | 0.6414972 | Rangeland |\n",
       "| 01 | 0.6020346 | 0.5799308 | 0.6241385 | Trees     |\n",
       "| 02 | 0.7022592 | 0.6621008 | 0.7424175 | Trees     |\n",
       "| 03 | 0.6394664 | 0.6045265 | 0.6744063 | Trees     |\n",
       "| 04 | 0.6471987 | 0.6202214 | 0.6741760 | Trees     |\n",
       "| 05 | 0.5153226 | 0.4778644 | 0.5527809 | Trees     |\n",
       "| 06 | 0.4262670 | 0.3932431 | 0.4592910 | Trees     |\n",
       "| 07 | 0.3235656 | 0.2916580 | 0.3554731 | Trees     |\n",
       "| 08 | 0.2427701 | 0.2091074 | 0.2764328 | Trees     |\n",
       "| 09 | 0.2496114 | 0.2238724 | 0.2753504 | Trees     |\n",
       "| 10 | 0.3133957 | 0.2609437 | 0.3658477 | Trees     |\n",
       "| 11 | 0.4250499 | 0.3753094 | 0.4747904 | Trees     |\n",
       "| 12 | 0.5943392 | 0.5087544 | 0.6799241 | Trees     |\n",
       "\n"
      ],
      "text/plain": [
       "   Month mean_val  lower_ci  upper_ci  land_use \n",
       "1  01    0.5208781 0.4774284 0.5643278 Crops    \n",
       "2  02    0.6597130 0.6394347 0.6799913 Crops    \n",
       "3  03    0.5903488 0.5489185 0.6317790 Crops    \n",
       "4  04    0.5605843 0.5084774 0.6126911 Crops    \n",
       "5  05    0.4071736 0.3805311 0.4338160 Crops    \n",
       "6  06    0.3276258 0.3114147 0.3438370 Crops    \n",
       "7  07    0.2561210 0.2439058 0.2683361 Crops    \n",
       "8  08    0.2018713 0.1821971 0.2215455 Crops    \n",
       "9  09    0.2038976 0.1915033 0.2162919 Crops    \n",
       "10 10    0.2269000 0.2052595 0.2485406 Crops    \n",
       "11 11    0.2903926 0.2697961 0.3109891 Crops    \n",
       "12 12    0.4342087 0.3676040 0.5008134 Crops    \n",
       "13 01    0.5863308 0.5643856 0.6082761 Rangeland\n",
       "14 02    0.7003859 0.6708788 0.7298930 Rangeland\n",
       "15 03    0.6280934 0.5900462 0.6661405 Rangeland\n",
       "16 04    0.6079525 0.5679125 0.6479924 Rangeland\n",
       "17 05    0.4479067 0.4136977 0.4821157 Rangeland\n",
       "18 06    0.3513442 0.3283577 0.3743306 Rangeland\n",
       "19 07    0.2684134 0.2518382 0.2849886 Rangeland\n",
       "20 08    0.2121064 0.1892387 0.2349742 Rangeland\n",
       "21 09    0.2229864 0.2049415 0.2410314 Rangeland\n",
       "22 10    0.2611101 0.2286929 0.2935273 Rangeland\n",
       "23 11    0.3572285 0.3198260 0.3946310 Rangeland\n",
       "24 12    0.5385673 0.4356373 0.6414972 Rangeland\n",
       "25 01    0.6020346 0.5799308 0.6241385 Trees    \n",
       "26 02    0.7022592 0.6621008 0.7424175 Trees    \n",
       "27 03    0.6394664 0.6045265 0.6744063 Trees    \n",
       "28 04    0.6471987 0.6202214 0.6741760 Trees    \n",
       "29 05    0.5153226 0.4778644 0.5527809 Trees    \n",
       "30 06    0.4262670 0.3932431 0.4592910 Trees    \n",
       "31 07    0.3235656 0.2916580 0.3554731 Trees    \n",
       "32 08    0.2427701 0.2091074 0.2764328 Trees    \n",
       "33 09    0.2496114 0.2238724 0.2753504 Trees    \n",
       "34 10    0.3133957 0.2609437 0.3658477 Trees    \n",
       "35 11    0.4250499 0.3753094 0.4747904 Trees    \n",
       "36 12    0.5943392 0.5087544 0.6799241 Trees    "
      ]
     },
     "metadata": {},
     "output_type": "display_data"
    }
   ],
   "source": [
    "all_train_ndvi_summary"
   ]
  },
  {
   "cell_type": "code",
   "execution_count": 34,
   "metadata": {
    "vscode": {
     "languageId": "r"
    }
   },
   "outputs": [
    {
     "data": {
      "image/png": "[encoded data removed]",
      "text/plain": [
       "plot without title"
      ]
     },
     "metadata": {
      "image/png": {
       "height": 420,
       "width": 420
      }
     },
     "output_type": "display_data"
    }
   ],
   "source": [
    "# Plot all results on one graph with legend\n",
    "ggplot(all_train_ndvi_summary, aes(x = Month, y = mean_val, color = land_use, group = land_use)) +\n",
    "geom_point(size = 2) +\n",
    "geom_line() +\n",
    "geom_ribbon(aes(ymin = lower_ci, ymax = upper_ci), alpha = 0.2) +\n",
    "theme_minimal() +\n",
    "labs(\n",
    "    title = paste0(country_name, \" Mean NDVI per Month\"),\n",
    "    x = \"Month\", \n",
    "    y = \"Mean NDVI\",\n",
    "    color = \"Land Use Type\"\n",
    ") +\n",
    "theme(axis.text.x = element_text(angle = 45, hjust = 1)) +\n",
    "ylim(0, 1)\n"
   ]
  },
  {
   "cell_type": "code",
   "execution_count": null,
   "metadata": {
    "vscode": {
     "languageId": "r"
    }
   },
   "outputs": [],
   "source": []
  }
 ],
 "metadata": {
  "kernelspec": {
   "display_name": "R 4.4.1 (myenv)",
   "language": "R",
   "name": "r44_myenv"
  },
  "language_info": {
   "codemirror_mode": "r",
   "file_extension": ".r",
   "mimetype": "text/x-r-source",
   "name": "R",
   "pygments_lexer": "r",
   "version": "4.4.2"
  }
 },
 "nbformat": 4,
 "nbformat_minor": 2
}
