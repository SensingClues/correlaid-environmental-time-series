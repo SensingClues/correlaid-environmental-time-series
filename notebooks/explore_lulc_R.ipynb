{
 "cells": [
  {
   "cell_type": "code",
   "execution_count": null,
   "metadata": {
    "editable": true,
    "slideshow": {
     "slide_type": ""
    },
    "tags": [],
    "vscode": {
     "languageId": "r"
    }
   },
   "outputs": [
    {
     "name": "stderr",
     "output_type": "stream",
     "text": [
      "terra 1.7.83\n",
      "\n",
      "Linking to GEOS 3.12.1, GDAL 3.8.4, PROJ 9.4.0; sf_use_s2() is TRUE\n",
      "\n"
     ]
    }
   ],
   "source": [
    "library(terra)\n",
    "library(sf)\n",
    "library(ggplot2)\n",
    "\n",
    "process_raster_aoi <- function(df_lut, raster_path, aoi_path, region_name, epsg_code_tif = 4326, pixel_resolution = 100) {\n",
    "  # Load the AOI polygon\n",
    "  print(\"Loading AOI polygon...\")\n",
    "  aoi <- st_read(aoi_path)\n",
    "  aoi <- st_transform(aoi, crs = epsg_code_tif)\n",
    "  print(\"AOI polygon loaded and transformed.\")\n",
    "  \n",
    "  # Load the raster file\n",
    "  print(\"Loading raster file...\")\n",
    "  raster <- rast(raster_path)\n",
    "  print(\"Raster file loaded.\")\n",
    "  \n",
    "  # Mask the raster with the AOI\n",
    "  print(\"Masking raster with AOI...\")\n",
    "  masked_raster <- mask(raster, vect(aoi))\n",
    "  print(\"Raster masked with AOI.\")\n",
    "  \n",
    "  # Get the values from the masked raster and filter out NA values\n",
    "  print(\"Extracting values from masked raster...\")\n",
    "  values <- values(masked_raster)\n",
    "  values <- values[!is.na(values)]\n",
    "  print(\"Values extracted and filtered.\")\n",
    "  \n",
    "  # Count the occurrences of each class\n",
    "  print(\"Counting occurrences of each class...\")\n",
    "  class_distribution <- table(values)\n",
    "  print(\"Class occurrences counted.\")\n",
    "  \n",
    "  # Convert to a data frame and merge with df_lut\n",
    "  print(\"Merging class distribution with lookup table...\")\n",
    "  class_distribution_df <- as.data.frame(class_distribution, stringsAsFactors = FALSE)\n",
    "  colnames(class_distribution_df) <- c('Value', 'Count')\n",
    "  result_df <- merge(class_distribution_df, df_lut, by = 'Value')\n",
    "  print(\"Class distribution merged with lookup table.\")\n",
    "  \n",
    "  # Calculate the area in square meters\n",
    "  print(\"Calculating area in square kilometers...\")\n",
    "  result_df$Area_sq_km <- result_df$Count * pixel_resolution * pixel_resolution / 1000000\n",
    "  \n",
    "  # Calculate the percentage cover of total AOI for each class\n",
    "  print(\"Calculating percentage cover for each class...\")\n",
    "  total_area <- sum(result_df$Area_sq_km)\n",
    "  result_df$Percentage_Cover <- (result_df$Area_sq_km / total_area) * 100\n",
    "  print(\"Percentage cover calculated.\")\n",
    "  \n",
    "  print(\"Final result:\")\n",
    "  print(result_df[order(-result_df$Count), c('Description', 'Area_sq_km', 'Percentage_Cover', 'Count')])\n",
    "  \n",
    "  # Plot the results\n",
    "  print(\"Plotting results...\")\n",
    "  ggplot() +\n",
    "    geom_sf(data = aoi, fill = NA, color = 'red', size = 1) +\n",
    "    geom_raster(data = as.data.frame(masked_raster, xy = TRUE), aes(x = x, y = y, fill = as.factor(values))) +\n",
    "    scale_fill_manual(values = setNames(df_lut$Color, df_lut$Value)) +\n",
    "    theme_minimal() +\n",
    "    labs(title = paste(region_name, \"Land use\"), fill = \"Land use class\") +\n",
    "    theme(legend.position = \"right\")\n",
    "  print(\"Plotting complete.\")\n",
    "}"
   ]
  },
  {
   "cell_type": "code",
   "execution_count": null,
   "metadata": {
    "vscode": {
     "languageId": "r"
    }
   },
   "outputs": [],
   "source": [
    "# Example usage\n",
    "df_lut <- data.frame(\n",
    "  Description = c(\"Water\", \"Trees\", \"Flooded vegetation\", \"Crops\", \"Built Area\", \"Bare ground\", \"Snow/Ice\", \"Clouds\", \"Rangeland\"),\n",
    "  Value = c(1, 2, 4, 5, 7, 8, 9, 10, 11),\n",
    "  Color = c(\"#1f77b4\", \"#2ca02c\", \"#17becf\", \"#ff7f0e\", \"#9467bd\", \"#8c564b\", \"#e377c2\", \"#7f7f7f\", \"#bcbd22\")\n",
    ")\n",
    "\n",
    "raster_path <- \"../data/10m_lulc/SPAIN_2023_LULC.tif\"\n",
    "aoi_path <- \"../data/aoi/AoI_Spain_3eData.geojson\"\n",
    "process_raster_aoi(df_lut, raster_path, aoi_path, \"Spain\", 32629, 10)"
   ]
  },
  {
   "cell_type": "markdown",
   "metadata": {},
   "source": [
    "## Spain explore"
   ]
  },
  {
   "cell_type": "code",
   "execution_count": null,
   "metadata": {
    "vscode": {
     "languageId": "r"
    }
   },
   "outputs": [
    {
     "name": "stdout",
     "output_type": "stream",
     "text": [
      "Reading layer `AoI_Ancares_Courel' from data source \n",
      "  `/data/aoi/AoI_Spain_3eData.geojson' using driver `GeoJSON'\n",
      "Simple feature collection with 1 feature and 1 field\n",
      "Geometry type: POLYGON\n",
      "Dimension:     XY\n",
      "Bounding box:  xmin: -7.508481 ymin: 42.35214 xmax: -6.690546 ymax: 43.12936\n",
      "Geodetic CRS:  WGS 84\n"
     ]
    }
   ],
   "source": [
    "df_lut <- data.frame(\n",
    "  Description = c(\"Water\", \"Trees\", \"Flooded vegetation\", \"Crops\", \"Built Area\", \"Bare ground\", \"Snow/Ice\", \"Clouds\", \"Rangeland\"),\n",
    "  Value = c(1, 2, 4, 5, 7, 8, 9, 10, 11),\n",
    "  Color = c(\"#1f77b4\", \"#2ca02c\", \"#17becf\", \"#ff7f0e\", \"#9467bd\", \"#8c564b\", \"#e377c2\", \"#7f7f7f\", \"#bcbd22\")\n",
    ")\n",
    "\n",
    "raster_path <- \"../data/10m_lulc/SPAIN_2023_LULC.tif\"\n",
    "aoi_path <- \"../data/aoi/AoI_Spain_3eData.geojson\"# Load the AOI polygon\n",
    "aoi <- st_read(aoi_path)\n",
    "aoi <- st_transform(aoi, crs = 32629)"
   ]
  },
  {
   "cell_type": "code",
   "execution_count": null,
   "metadata": {
    "vscode": {
     "languageId": "r"
    }
   },
   "outputs": [
    {
     "name": "stdout",
     "output_type": "stream",
     "text": [
      "[1] \"Loading raster file...\"\n",
      "[1] \"Raster file loaded.\"\n"
     ]
    },
    {
     "name": "stderr",
     "output_type": "stream",
     "text": [
      "Warning message:\n",
      "“[summary] used a sample”\n"
     ]
    },
    {
     "data": {
      "text/plain": [
       " SPAIN_2023_LULC\n",
       " Min.   : 1.00  \n",
       " 1st Qu.: 2.00  \n",
       " Median : 5.00  \n",
       " Mean   : 5.82  \n",
       " 3rd Qu.:11.00  \n",
       " Max.   :11.00  \n",
       " NA's   :77897  "
      ]
     },
     "metadata": {},
     "output_type": "display_data"
    }
   ],
   "source": [
    "# Load the raster file\n",
    "print(\"Loading raster file...\")\n",
    "raster <- rast(raster_path)\n",
    "print(\"Raster file loaded.\")\n",
    "\n",
    "summary(raster)"
   ]
  },
  {
   "cell_type": "code",
   "execution_count": null,
   "metadata": {
    "vscode": {
     "languageId": "r"
    }
   },
   "outputs": [],
   "source": [
    "# Mask the raster with the AOI\n",
    "print(\"Masking raster with AOI...\")\n",
    "masked_raster <- mask(raster, vect(aoi))\n",
    "print(\"Raster masked with AOI.\")"
   ]
  },
  {
   "cell_type": "code",
   "execution_count": null,
   "metadata": {
    "vscode": {
     "languageId": "r"
    }
   },
   "outputs": [
    {
     "data": {
      "text/plain": [
       " class       : SpatVector \n",
       " geometry    : polygons \n",
       " dimensions  : 1, 1  (geometries, attributes)\n",
       " extent      : 622590.1, 688705.5, 4690252, 4777257  (xmin, xmax, ymin, ymax)\n",
       " coord. ref. : WGS 84 / UTM zone 29N (EPSG:32629) \n",
       " names       :           NAME\n",
       " type        :          <chr>\n",
       " values      : Ancares_Courel"
      ]
     },
     "metadata": {},
     "output_type": "display_data"
    }
   ],
   "source": [
    "vect(aoi)"
   ]
  },
  {
   "cell_type": "code",
   "execution_count": null,
   "metadata": {
    "vscode": {
     "languageId": "r"
    }
   },
   "outputs": [
    {
     "data": {
      "text/html": [
       "<span style=white-space:pre-wrap>'PROJCRS[\"WGS 84 / UTM zone 29N\",\\n    BASEGEOGCRS[\"WGS 84\",\\n        ENSEMBLE[\"World Geodetic System 1984 ensemble\",\\n            MEMBER[\"World Geodetic System 1984 (Transit)\"],\\n            MEMBER[\"World Geodetic System 1984 (G730)\"],\\n            MEMBER[\"World Geodetic System 1984 (G873)\"],\\n            MEMBER[\"World Geodetic System 1984 (G1150)\"],\\n            MEMBER[\"World Geodetic System 1984 (G1674)\"],\\n            MEMBER[\"World Geodetic System 1984 (G1762)\"],\\n            MEMBER[\"World Geodetic System 1984 (G2139)\"],\\n            ELLIPSOID[\"WGS 84\",6378137,298.257223563,\\n                LENGTHUNIT[\"metre\",1]],\\n            ENSEMBLEACCURACY[2.0]],\\n        PRIMEM[\"Greenwich\",0,\\n            ANGLEUNIT[\"degree\",0.0174532925199433]],\\n        ID[\"EPSG\",4326]],\\n    CONVERSION[\"UTM zone 29N\",\\n        METHOD[\"Transverse Mercator\",\\n            ID[\"EPSG\",9807]],\\n        PARAMETER[\"Latitude of natural origin\",0,\\n            ANGLEUNIT[\"degree\",0.0174532925199433],\\n            ID[\"EPSG\",8801]],\\n        PARAMETER[\"Longitude of natural origin\",-9,\\n            ANGLEUNIT[\"degree\",0.0174532925199433],\\n            ID[\"EPSG\",8802]],\\n        PARAMETER[\"Scale factor at natural origin\",0.9996,\\n            SCALEUNIT[\"unity\",1],\\n            ID[\"EPSG\",8805]],\\n        PARAMETER[\"False easting\",500000,\\n            LENGTHUNIT[\"metre\",1],\\n            ID[\"EPSG\",8806]],\\n        PARAMETER[\"False northing\",0,\\n            LENGTHUNIT[\"metre\",1],\\n            ID[\"EPSG\",8807]]],\\n    CS[Cartesian,2],\\n        AXIS[\"(E)\",east,\\n            ORDER[1],\\n            LENGTHUNIT[\"metre\",1]],\\n        AXIS[\"(N)\",north,\\n            ORDER[2],\\n            LENGTHUNIT[\"metre\",1]],\\n    USAGE[\\n        SCOPE[\"Navigation and medium accuracy spatial referencing.\"],\\n        AREA[\"Between 12°W and 6°W, northern hemisphere between equator and 84°N, onshore and offshore. Algeria. Côte D\\'Ivoire (Ivory Coast). Faroe Islands. Guinea. Ireland. Jan Mayen. Liberia, Mali. Mauritania. Morocco. Portugal. Sierra Leone. Spain. United Kingdom (UK). Western Sahara.\"],\\n        BBOX[0,-12.01,84.01,-6]],\\n    ID[\"EPSG\",32629]]'</span>"
      ],
      "text/latex": [
       "'PROJCRS{[}\"WGS 84 / UTM zone 29N\",\\textbackslash{}n    BASEGEOGCRS{[}\"WGS 84\",\\textbackslash{}n        ENSEMBLE{[}\"World Geodetic System 1984 ensemble\",\\textbackslash{}n            MEMBER{[}\"World Geodetic System 1984 (Transit)\"{]},\\textbackslash{}n            MEMBER{[}\"World Geodetic System 1984 (G730)\"{]},\\textbackslash{}n            MEMBER{[}\"World Geodetic System 1984 (G873)\"{]},\\textbackslash{}n            MEMBER{[}\"World Geodetic System 1984 (G1150)\"{]},\\textbackslash{}n            MEMBER{[}\"World Geodetic System 1984 (G1674)\"{]},\\textbackslash{}n            MEMBER{[}\"World Geodetic System 1984 (G1762)\"{]},\\textbackslash{}n            MEMBER{[}\"World Geodetic System 1984 (G2139)\"{]},\\textbackslash{}n            ELLIPSOID{[}\"WGS 84\",6378137,298.257223563,\\textbackslash{}n                LENGTHUNIT{[}\"metre\",1{]}{]},\\textbackslash{}n            ENSEMBLEACCURACY{[}2.0{]}{]},\\textbackslash{}n        PRIMEM{[}\"Greenwich\",0,\\textbackslash{}n            ANGLEUNIT{[}\"degree\",0.0174532925199433{]}{]},\\textbackslash{}n        ID{[}\"EPSG\",4326{]}{]},\\textbackslash{}n    CONVERSION{[}\"UTM zone 29N\",\\textbackslash{}n        METHOD{[}\"Transverse Mercator\",\\textbackslash{}n            ID{[}\"EPSG\",9807{]}{]},\\textbackslash{}n        PARAMETER{[}\"Latitude of natural origin\",0,\\textbackslash{}n            ANGLEUNIT{[}\"degree\",0.0174532925199433{]},\\textbackslash{}n            ID{[}\"EPSG\",8801{]}{]},\\textbackslash{}n        PARAMETER{[}\"Longitude of natural origin\",-9,\\textbackslash{}n            ANGLEUNIT{[}\"degree\",0.0174532925199433{]},\\textbackslash{}n            ID{[}\"EPSG\",8802{]}{]},\\textbackslash{}n        PARAMETER{[}\"Scale factor at natural origin\",0.9996,\\textbackslash{}n            SCALEUNIT{[}\"unity\",1{]},\\textbackslash{}n            ID{[}\"EPSG\",8805{]}{]},\\textbackslash{}n        PARAMETER{[}\"False easting\",500000,\\textbackslash{}n            LENGTHUNIT{[}\"metre\",1{]},\\textbackslash{}n            ID{[}\"EPSG\",8806{]}{]},\\textbackslash{}n        PARAMETER{[}\"False northing\",0,\\textbackslash{}n            LENGTHUNIT{[}\"metre\",1{]},\\textbackslash{}n            ID{[}\"EPSG\",8807{]}{]}{]},\\textbackslash{}n    CS{[}Cartesian,2{]},\\textbackslash{}n        AXIS{[}\"(E)\",east,\\textbackslash{}n            ORDER{[}1{]},\\textbackslash{}n            LENGTHUNIT{[}\"metre\",1{]}{]},\\textbackslash{}n        AXIS{[}\"(N)\",north,\\textbackslash{}n            ORDER{[}2{]},\\textbackslash{}n            LENGTHUNIT{[}\"metre\",1{]}{]},\\textbackslash{}n    USAGE{[}\\textbackslash{}n        SCOPE{[}\"Navigation and medium accuracy spatial referencing.\"{]},\\textbackslash{}n        AREA{[}\"Between 12°W and 6°W, northern hemisphere between equator and 84°N, onshore and offshore. Algeria. Côte D\\textbackslash{}'Ivoire (Ivory Coast). Faroe Islands. Guinea. Ireland. Jan Mayen. Liberia, Mali. Mauritania. Morocco. Portugal. Sierra Leone. Spain. United Kingdom (UK). Western Sahara.\"{]},\\textbackslash{}n        BBOX{[}0,-12.01,84.01,-6{]}{]},\\textbackslash{}n    ID{[}\"EPSG\",32629{]}{]}'"
      ],
      "text/markdown": [
       "<span style=white-space:pre-wrap>'PROJCRS[\"WGS 84 / UTM zone 29N\",\\n    BASEGEOGCRS[\"WGS 84\",\\n        ENSEMBLE[\"World Geodetic System 1984 ensemble\",\\n            MEMBER[\"World Geodetic System 1984 (Transit)\"],\\n            MEMBER[\"World Geodetic System 1984 (G730)\"],\\n            MEMBER[\"World Geodetic System 1984 (G873)\"],\\n            MEMBER[\"World Geodetic System 1984 (G1150)\"],\\n            MEMBER[\"World Geodetic System 1984 (G1674)\"],\\n            MEMBER[\"World Geodetic System 1984 (G1762)\"],\\n            MEMBER[\"World Geodetic System 1984 (G2139)\"],\\n            ELLIPSOID[\"WGS 84\",6378137,298.257223563,\\n                LENGTHUNIT[\"metre\",1]],\\n            ENSEMBLEACCURACY[2.0]],\\n        PRIMEM[\"Greenwich\",0,\\n            ANGLEUNIT[\"degree\",0.0174532925199433]],\\n        ID[\"EPSG\",4326]],\\n    CONVERSION[\"UTM zone 29N\",\\n        METHOD[\"Transverse Mercator\",\\n            ID[\"EPSG\",9807]],\\n        PARAMETER[\"Latitude of natural origin\",0,\\n            ANGLEUNIT[\"degree\",0.0174532925199433],\\n            ID[\"EPSG\",8801]],\\n        PARAMETER[\"Longitude of natural origin\",-9,\\n            ANGLEUNIT[\"degree\",0.0174532925199433],\\n            ID[\"EPSG\",8802]],\\n        PARAMETER[\"Scale factor at natural origin\",0.9996,\\n            SCALEUNIT[\"unity\",1],\\n            ID[\"EPSG\",8805]],\\n        PARAMETER[\"False easting\",500000,\\n            LENGTHUNIT[\"metre\",1],\\n            ID[\"EPSG\",8806]],\\n        PARAMETER[\"False northing\",0,\\n            LENGTHUNIT[\"metre\",1],\\n            ID[\"EPSG\",8807]]],\\n    CS[Cartesian,2],\\n        AXIS[\"(E)\",east,\\n            ORDER[1],\\n            LENGTHUNIT[\"metre\",1]],\\n        AXIS[\"(N)\",north,\\n            ORDER[2],\\n            LENGTHUNIT[\"metre\",1]],\\n    USAGE[\\n        SCOPE[\"Navigation and medium accuracy spatial referencing.\"],\\n        AREA[\"Between 12°W and 6°W, northern hemisphere between equator and 84°N, onshore and offshore. Algeria. Côte D\\'Ivoire (Ivory Coast). Faroe Islands. Guinea. Ireland. Jan Mayen. Liberia, Mali. Mauritania. Morocco. Portugal. Sierra Leone. Spain. United Kingdom (UK). Western Sahara.\"],\\n        BBOX[0,-12.01,84.01,-6]],\\n    ID[\"EPSG\",32629]]'</span>"
      ],
      "text/plain": [
       "[1] \"PROJCRS[\\\"WGS 84 / UTM zone 29N\\\",\\n    BASEGEOGCRS[\\\"WGS 84\\\",\\n        ENSEMBLE[\\\"World Geodetic System 1984 ensemble\\\",\\n            MEMBER[\\\"World Geodetic System 1984 (Transit)\\\"],\\n            MEMBER[\\\"World Geodetic System 1984 (G730)\\\"],\\n            MEMBER[\\\"World Geodetic System 1984 (G873)\\\"],\\n            MEMBER[\\\"World Geodetic System 1984 (G1150)\\\"],\\n            MEMBER[\\\"World Geodetic System 1984 (G1674)\\\"],\\n            MEMBER[\\\"World Geodetic System 1984 (G1762)\\\"],\\n            MEMBER[\\\"World Geodetic System 1984 (G2139)\\\"],\\n            ELLIPSOID[\\\"WGS 84\\\",6378137,298.257223563,\\n                LENGTHUNIT[\\\"metre\\\",1]],\\n            ENSEMBLEACCURACY[2.0]],\\n        PRIMEM[\\\"Greenwich\\\",0,\\n            ANGLEUNIT[\\\"degree\\\",0.0174532925199433]],\\n        ID[\\\"EPSG\\\",4326]],\\n    CONVERSION[\\\"UTM zone 29N\\\",\\n        METHOD[\\\"Transverse Mercator\\\",\\n            ID[\\\"EPSG\\\",9807]],\\n        PARAMETER[\\\"Latitude of natural origin\\\",0,\\n            ANGLEUNIT[\\\"degree\\\",0.0174532925199433],\\n            ID[\\\"EPSG\\\",8801]],\\n        PARAMETER[\\\"Longitude of natural origin\\\",-9,\\n            ANGLEUNIT[\\\"degree\\\",0.0174532925199433],\\n            ID[\\\"EPSG\\\",8802]],\\n        PARAMETER[\\\"Scale factor at natural origin\\\",0.9996,\\n            SCALEUNIT[\\\"unity\\\",1],\\n            ID[\\\"EPSG\\\",8805]],\\n        PARAMETER[\\\"False easting\\\",500000,\\n            LENGTHUNIT[\\\"metre\\\",1],\\n            ID[\\\"EPSG\\\",8806]],\\n        PARAMETER[\\\"False northing\\\",0,\\n            LENGTHUNIT[\\\"metre\\\",1],\\n            ID[\\\"EPSG\\\",8807]]],\\n    CS[Cartesian,2],\\n        AXIS[\\\"(E)\\\",east,\\n            ORDER[1],\\n            LENGTHUNIT[\\\"metre\\\",1]],\\n        AXIS[\\\"(N)\\\",north,\\n            ORDER[2],\\n            LENGTHUNIT[\\\"metre\\\",1]],\\n    USAGE[\\n        SCOPE[\\\"Navigation and medium accuracy spatial referencing.\\\"],\\n        AREA[\\\"Between 12°W and 6°W, northern hemisphere between equator and 84°N, onshore and offshore. Algeria. Côte D'Ivoire (Ivory Coast). Faroe Islands. Guinea. Ireland. Jan Mayen. Liberia, Mali. Mauritania. Morocco. Portugal. Sierra Leone. Spain. United Kingdom (UK). Western Sahara.\\\"],\\n        BBOX[0,-12.01,84.01,-6]],\\n    ID[\\\"EPSG\\\",32629]]\""
      ]
     },
     "metadata": {},
     "output_type": "display_data"
    }
   ],
   "source": [
    "crs(aoi)"
   ]
  },
  {
   "cell_type": "markdown",
   "metadata": {},
   "source": [
    "## Zambia explore"
   ]
  },
  {
   "cell_type": "code",
   "execution_count": null,
   "metadata": {
    "vscode": {
     "languageId": "r"
    }
   },
   "outputs": [
    {
     "name": "stdout",
     "output_type": "stream",
     "text": [
      "Reading layer `AoI_Mponda' from data source \n",
      "  `/data/aoi/AoI_Zambia_By_Life_Connected.geojson' using driver `GeoJSON'\n",
      "Simple feature collection with 1 feature and 1 field\n",
      "Geometry type: POLYGON\n",
      "Dimension:     XY\n",
      "Bounding box:  xmin: 26.77027 ymin: -15.1321 xmax: 26.92342 ymax: -14.85555\n",
      "Geodetic CRS:  WGS 84\n"
     ]
    }
   ],
   "source": [
    "df_lut <- data.frame(\n",
    "  Description = c(\"Water\", \"Trees\", \"Flooded vegetation\", \"Crops\", \"Built Area\", \"Bare ground\", \"Snow/Ice\", \"Clouds\", \"Rangeland\"),\n",
    "  Value = c(1, 2, 4, 5, 7, 8, 9, 10, 11),\n",
    "  Color = c(\"#1f77b4\", \"#2ca02c\", \"#17becf\", \"#ff7f0e\", \"#9467bd\", \"#8c564b\", \"#e377c2\", \"#7f7f7f\", \"#bcbd22\")\n",
    ")\n",
    "\n",
    "raster_path <- \"../data/10m_lulc/ZAMBIA_2023_35L_20230101-20240101.tif\"\n",
    "aoi_path <- \"../data/aoi/AoI_Zambia_By_Life_Connected.geojson\"\n",
    "# Load the AOI polygon\n",
    "aoi <- st_read(aoi_path)\n",
    "aoi <- st_transform(aoi, crs = 32735)"
   ]
  },
  {
   "cell_type": "code",
   "execution_count": null,
   "metadata": {
    "vscode": {
     "languageId": "r"
    }
   },
   "outputs": [
    {
     "name": "stdout",
     "output_type": "stream",
     "text": [
      "[1] \"Loading raster file...\"\n",
      "[1] \"Raster file loaded.\"\n"
     ]
    },
    {
     "name": "stderr",
     "output_type": "stream",
     "text": [
      "Warning message:\n",
      "“[summary] used a sample”\n"
     ]
    },
    {
     "data": {
      "text/plain": [
       " ZAMBIA_2023_35L_20230101.20240101\n",
       " Min.   : 1.000                   \n",
       " 1st Qu.: 2.000                   \n",
       " Median : 2.000                   \n",
       " Mean   : 4.991                   \n",
       " 3rd Qu.:11.000                   \n",
       " Max.   :11.000                   \n",
       " NA's   :1480                     "
      ]
     },
     "metadata": {},
     "output_type": "display_data"
    }
   ],
   "source": [
    "# Load the raster file\n",
    "print(\"Loading raster file...\")\n",
    "raster <- rast(raster_path)\n",
    "print(\"Raster file loaded.\")\n",
    "\n",
    "summary(raster)"
   ]
  },
  {
   "cell_type": "code",
   "execution_count": null,
   "metadata": {
    "vscode": {
     "languageId": "r"
    }
   },
   "outputs": [
    {
     "name": "stdout",
     "output_type": "stream",
     "text": [
      "[1] \"Masking raster with AOI...\"\n",
      "[1] \"Raster masked with AOI.\"             \n"
     ]
    }
   ],
   "source": [
    "# Mask the raster with the AOI\n",
    "print(\"Masking raster with AOI...\")\n",
    "masked_raster <- mask(raster, vect(aoi))\n",
    "print(\"Raster masked with AOI.\")"
   ]
  },
  {
   "cell_type": "code",
   "execution_count": null,
   "metadata": {
    "vscode": {
     "languageId": "r"
    }
   },
   "outputs": [
    {
     "name": "stdout",
     "output_type": "stream",
     "text": [
      "[1] \"Extracting values from masked raster...\"\n"
     ]
    }
   ],
   "source": [
    "# Get the values from the masked raster and filter out NA values\n",
    "print(\"Extracting values from masked raster...\")\n",
    "values <- values(masked_raster)\n",
    "values <- values[!is.na(values)]\n",
    "print(\"Values extracted and filtered.\")\n",
    "\n",
    "# Count the occurrences of each class\n",
    "print(\"Counting occurrences of each class...\")\n",
    "class_distribution <- table(values)\n",
    "print(\"Class occurrences counted.\")\n",
    "\n",
    "# Convert to a data frame and merge with df_lut\n",
    "print(\"Merging class distribution with lookup table...\")\n",
    "class_distribution_df <- as.data.frame(class_distribution, stringsAsFactors = FALSE)\n",
    "colnames(class_distribution_df) <- c('Value', 'Count')\n",
    "result_df <- merge(class_distribution_df, df_lut, by = 'Value')\n",
    "print(\"Class distribution merged with lookup table.\")\n",
    "\n",
    "# Calculate the area in square meters\n",
    "print(\"Calculating area in square kilometers...\")\n",
    "result_df$Area_sq_km <- result_df$Count * pixel_resolution * pixel_resolution / 1000000\n",
    "\n",
    "# Calculate the percentage cover of total AOI for each class\n",
    "print(\"Calculating percentage cover for each class...\")\n",
    "total_area <- sum(result_df$Area_sq_km)\n",
    "result_df$Percentage_Cover <- (result_df$Area_sq_km / total_area) * 100\n",
    "print(\"Percentage cover calculated.\")\n",
    "\n",
    "print(\"Final result:\")\n",
    "print(result_df[order(-result_df$Count), c('Description', 'Area_sq_km', 'Percentage_Cover', 'Count')])"
   ]
  }
 ],
 "metadata": {
  "kernelspec": {
   "display_name": "R",
   "language": "R",
   "name": "ir"
  },
  "language_info": {
   "codemirror_mode": "r",
   "file_extension": ".r",
   "mimetype": "text/x-r-source",
   "name": "R",
   "pygments_lexer": "r",
   "version": "3.13.0"
  }
 },
 "nbformat": 4,
 "nbformat_minor": 4
}
