{
 "cells": [
  {
   "cell_type": "markdown",
   "metadata": {},
   "source": [
    "## Spain explore"
   ]
  },
  {
   "cell_type": "code",
   "execution_count": null,
   "metadata": {
    "vscode": {
     "languageId": "r"
    }
   },
   "outputs": [
    {
     "name": "stdout",
     "output_type": "stream",
     "text": [
      "Reading layer `AoI_Ancares_Courel' from data source \n",
      "  `/data/aoi/AoI_Spain_3eData.geojson' using driver `GeoJSON'\n",
      "Simple feature collection with 1 feature and 1 field\n",
      "Geometry type: POLYGON\n",
      "Dimension:     XY\n",
      "Bounding box:  xmin: -7.508481 ymin: 42.35214 xmax: -6.690546 ymax: 43.12936\n",
      "Geodetic CRS:  WGS 84\n"
     ]
    }
   ],
   "source": [
    "df_lut <- data.frame(\n",
    "  Description = c(\"Water\", \"Trees\", \"Flooded vegetation\", \"Crops\", \"Built Area\", \"Bare ground\", \"Snow/Ice\", \"Clouds\", \"Rangeland\"),\n",
    "  Value = c(1, 2, 4, 5, 7, 8, 9, 10, 11),\n",
    "  Color = c(\"#1f77b4\", \"#2ca02c\", \"#17becf\", \"#ff7f0e\", \"#9467bd\", \"#8c564b\", \"#e377c2\", \"#7f7f7f\", \"#bcbd22\")\n",
    ")\n",
    "\n",
    "raster_path <- \"../data/10m_lulc/SPAIN_2023_LULC.tif\"\n",
    "aoi_path <- \"../data/aoi/AoI_Spain_3eData.geojson\"# Load the AOI polygon\n",
    "aoi <- st_read(aoi_path)\n",
    "aoi <- st_transform(aoi, crs = 32629)"
   ]
  },
  {
   "cell_type": "code",
   "execution_count": null,
   "metadata": {
    "vscode": {
     "languageId": "r"
    }
   },
   "outputs": [
    {
     "name": "stdout",
     "output_type": "stream",
     "text": [
      "[1] \"Loading raster file...\"\n",
      "[1] \"Raster file loaded.\"\n"
     ]
    },
    {
     "name": "stderr",
     "output_type": "stream",
     "text": [
      "Warning message:\n",
      "“[summary] used a sample”\n"
     ]
    },
    {
     "data": {
      "text/plain": [
       " SPAIN_2023_LULC\n",
       " Min.   : 1.00  \n",
       " 1st Qu.: 2.00  \n",
       " Median : 5.00  \n",
       " Mean   : 5.82  \n",
       " 3rd Qu.:11.00  \n",
       " Max.   :11.00  \n",
       " NA's   :77897  "
      ]
     },
     "metadata": {},
     "output_type": "display_data"
    }
   ],
   "source": [
    "# Load the raster file\n",
    "print(\"Loading raster file...\")\n",
    "raster <- rast(raster_path)\n",
    "print(\"Raster file loaded.\")\n",
    "\n",
    "summary(raster)"
   ]
  },
  {
   "cell_type": "code",
   "execution_count": null,
   "metadata": {
    "vscode": {
     "languageId": "r"
    }
   },
   "outputs": [],
   "source": [
    "# Mask the raster with the AOI\n",
    "print(\"Masking raster with AOI...\")\n",
    "masked_raster <- mask(raster, vect(aoi))\n",
    "print(\"Raster masked with AOI.\")\n",
    "\n",
    "# times out!"
   ]
  },
  {
   "cell_type": "markdown",
   "metadata": {},
   "source": [
    "## Zambia explore"
   ]
  },
  {
   "cell_type": "code",
   "execution_count": null,
   "metadata": {
    "vscode": {
     "languageId": "r"
    }
   },
   "outputs": [
    {
     "name": "stderr",
     "output_type": "stream",
     "text": [
      "terra 1.7.83\n",
      "\n",
      "Linking to GEOS 3.12.2, GDAL 3.9.3, PROJ 9.4.1; sf_use_s2() is TRUE\n",
      "\n"
     ]
    },
    {
     "name": "stdout",
     "output_type": "stream",
     "text": [
      "Reading layer `AoI_Mponda' from data source \n",
      "  `C:\\SD\\correlaid_sensingclues\\environmental-time-series\\data\\aoi\\AoI_Zambia_By_Life_Connected.geojson' \n",
      "  using driver `GeoJSON'\n",
      "Simple feature collection with 1 feature and 1 field\n",
      "Geometry type: POLYGON\n",
      "Dimension:     XY\n",
      "Bounding box:  xmin: 26.77027 ymin: -15.1321 xmax: 26.92342 ymax: -14.85555\n",
      "Geodetic CRS:  WGS 84\n"
     ]
    }
   ],
   "source": [
    "df_lut <- data.frame(\n",
    "  Description = c(\"Water\", \"Trees\", \"Flooded vegetation\", \"Crops\", \"Built Area\", \"Bare ground\", \"Snow/Ice\", \"Clouds\", \"Rangeland\"),\n",
    "  Value = c(1, 2, 4, 5, 7, 8, 9, 10, 11),\n",
    "  Color = c(\"#1f77b4\", \"#2ca02c\", \"#17becf\", \"#ff7f0e\", \"#9467bd\", \"#8c564b\", \"#e377c2\", \"#7f7f7f\", \"#bcbd22\")\n",
    ")\n",
    "\n",
    "raster_path <- \"../data/10m_lulc/ZAMBIA_2023_35L_20230101-20240101.tif\"\n",
    "aoi_path <- \"../data/aoi/AoI_Zambia_By_Life_Connected.geojson\"\n",
    "# Load the AOI polygon\n",
    "aoi <- st_read(aoi_path)\n",
    "aoi <- st_transform(aoi, crs = 32735)"
   ]
  },
  {
   "cell_type": "code",
   "execution_count": 3,
   "metadata": {
    "vscode": {
     "languageId": "r"
    }
   },
   "outputs": [
    {
     "name": "stdout",
     "output_type": "stream",
     "text": [
      "[1] \"Loading raster file...\"\n"
     ]
    },
    {
     "name": "stdout",
     "output_type": "stream",
     "text": [
      "[1] \"Raster file loaded.\"\n"
     ]
    },
    {
     "name": "stderr",
     "output_type": "stream",
     "text": [
      "Warning message:\n",
      "\"[summary] used a sample\"\n"
     ]
    },
    {
     "data": {
      "text/plain": [
       " ZAMBIA_2023_35L_20230101.20240101\n",
       " Min.   : 1.000                   \n",
       " 1st Qu.: 2.000                   \n",
       " Median : 2.000                   \n",
       " Mean   : 4.991                   \n",
       " 3rd Qu.:11.000                   \n",
       " Max.   :11.000                   \n",
       " NA's   :1480                     "
      ]
     },
     "metadata": {},
     "output_type": "display_data"
    }
   ],
   "source": [
    "# Load the raster file\n",
    "print(\"Loading raster file...\")\n",
    "raster <- rast(raster_path)\n",
    "print(\"Raster file loaded.\")\n",
    "\n",
    "summary(raster)"
   ]
  },
  {
   "cell_type": "code",
   "execution_count": 4,
   "metadata": {
    "vscode": {
     "languageId": "r"
    }
   },
   "outputs": [
    {
     "name": "stdout",
     "output_type": "stream",
     "text": [
      "[1] \"Masking raster with AOI...\"\n"
     ]
    },
    {
     "name": "stdout",
     "output_type": "stream",
     "text": [
      "[1] \"Raster masked with AOI.\"             \n"
     ]
    }
   ],
   "source": [
    "# Mask the raster with the AOI\n",
    "print(\"Masking raster with AOI...\")\n",
    "masked_raster <- mask(raster, vect(aoi))\n",
    "print(\"Raster masked with AOI.\")"
   ]
  },
  {
   "cell_type": "code",
   "execution_count": null,
   "metadata": {
    "vscode": {
     "languageId": "r"
    }
   },
   "outputs": [],
   "source": [
    "# Get the bounding box of the AOI\n",
    "bbox <- sf::st_bbox(vect(aoi))"
   ]
  },
  {
   "cell_type": "code",
   "execution_count": 9,
   "metadata": {
    "vscode": {
     "languageId": "r"
    }
   },
   "outputs": [
    {
     "data": {
      "image/png": "[encoded data removed]",
      "text/plain": [
       "plot without title"
      ]
     },
     "metadata": {
      "image/png": {
       "height": 420,
       "width": 420
      }
     },
     "output_type": "display_data"
    }
   ],
   "source": [
    "par(mfrow=c(1,2))\n",
    "plot(raster)\n",
    "plot(masked_raster, xlim = c(bbox[\"xmin\"], bbox[\"xmax\"]), ylim = c(bbox[\"ymin\"], bbox[\"ymax\"]))"
   ]
  },
  {
   "cell_type": "code",
   "execution_count": 18,
   "metadata": {
    "vscode": {
     "languageId": "r"
    }
   },
   "outputs": [
    {
     "ename": "ERROR",
     "evalue": "Error: std::bad_alloc\n",
     "output_type": "error",
     "traceback": [
      "Error: std::bad_alloc\nTraceback:\n",
      "1. values(masked_raster)",
      "2. .local(x, ...)",
      "3. readValues(x, row, nrows, col, ncols, mat = mat, dataframe = dataframe, \n .     ...)",
      "4. readValues(x, row, nrows, col, ncols, mat = mat, dataframe = dataframe, \n .     ...)",
      "5. .local(x, ...)",
      "6. x@ptr$readValues(row - 1, nrows, col - 1, ncols)",
      "7. stop(structure(list(message = \"std::bad_alloc\", call = eval(expr, \n .     envir), cppstack = NULL), class = c(\"std::bad_alloc\", \"C++Error\", \n . \"error\", \"condition\")))"
     ]
    }
   ],
   "source": [
    "cell_count <- sum(!is.na(values(masked_raster)))\n",
    "print(cell_count)"
   ]
  },
  {
   "cell_type": "code",
   "execution_count": 16,
   "metadata": {
    "vscode": {
     "languageId": "r"
    }
   },
   "outputs": [
    {
     "name": "stdout",
     "output_type": "stream",
     "text": [
      "[1] \"Extracting values from masked raster...\"\n"
     ]
    },
    {
     "ename": "ERROR",
     "evalue": "Error: std::bad_alloc\n",
     "output_type": "error",
     "traceback": [
      "Error: std::bad_alloc\nTraceback:\n",
      "1. raster::values(masked_raster)",
      "2. .local(x, ...)",
      "3. readValues(x, row, nrows, col, ncols, mat = mat, dataframe = dataframe, \n .     ...)",
      "4. readValues(x, row, nrows, col, ncols, mat = mat, dataframe = dataframe, \n .     ...)",
      "5. .local(x, ...)",
      "6. x@ptr$readValues(row - 1, nrows, col - 1, ncols)",
      "7. stop(structure(list(message = \"std::bad_alloc\", call = eval(expr, \n .     envir), cppstack = NULL), class = c(\"std::bad_alloc\", \"C++Error\", \n . \"error\", \"condition\")))"
     ]
    }
   ],
   "source": [
    "# Get the values from the masked raster and filter out NA values\n",
    "print(\"Extracting values from masked raster...\")\n",
    "vals <- raster::values(masked_raster)"
   ]
  },
  {
   "cell_type": "code",
   "execution_count": null,
   "metadata": {
    "vscode": {
     "languageId": "r"
    }
   },
   "outputs": [],
   "source": [
    "# Get the values from the masked raster and filter out NA values\n",
    "print(\"Extracting values from masked raster...\")\n",
    "values <- values(masked_raster)\n",
    "values <- values[!is.na(values)]\n",
    "print(\"Values extracted and filtered.\")\n",
    "\n",
    "# Count the occurrences of each class\n",
    "print(\"Counting occurrences of each class...\")\n",
    "class_distribution <- table(values)\n",
    "print(\"Class occurrences counted.\")\n",
    "\n",
    "# Convert to a data frame and merge with df_lut\n",
    "print(\"Merging class distribution with lookup table...\")\n",
    "class_distribution_df <- as.data.frame(class_distribution, stringsAsFactors = FALSE)\n",
    "colnames(class_distribution_df) <- c('Value', 'Count')\n",
    "result_df <- merge(class_distribution_df, df_lut, by = 'Value')\n",
    "print(\"Class distribution merged with lookup table.\")\n",
    "\n",
    "# Calculate the area in square meters\n",
    "print(\"Calculating area in square kilometers...\")\n",
    "result_df$Area_sq_km <- result_df$Count * pixel_resolution * pixel_resolution / 1000000\n",
    "\n",
    "# Calculate the percentage cover of total AOI for each class\n",
    "print(\"Calculating percentage cover for each class...\")\n",
    "total_area <- sum(result_df$Area_sq_km)\n",
    "result_df$Percentage_Cover <- (result_df$Area_sq_km / total_area) * 100\n",
    "print(\"Percentage cover calculated.\")\n",
    "\n",
    "print(\"Final result:\")\n",
    "print(result_df[order(-result_df$Count), c('Description', 'Area_sq_km', 'Percentage_Cover', 'Count')])"
   ]
  }
 ],
 "metadata": {
  "kernelspec": {
   "display_name": "R 4.4.1 (myenv)",
   "language": "R",
   "name": "r44_myenv"
  },
  "language_info": {
   "codemirror_mode": "r",
   "file_extension": ".r",
   "mimetype": "text/x-r-source",
   "name": "R",
   "pygments_lexer": "r",
   "version": "4.4.2"
  }
 },
 "nbformat": 4,
 "nbformat_minor": 4
}
